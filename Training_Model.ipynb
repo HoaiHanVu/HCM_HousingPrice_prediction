{
 "cells": [
  {
   "cell_type": "code",
   "execution_count": 1,
   "metadata": {},
   "outputs": [
    {
     "name": "stdout",
     "output_type": "stream",
     "text": [
      "importing Jupyter notebook from /Users/vuhan/Desktop/JOHN/5. Machine Learning with Python/4. Practice/LDS6_269C7N5_ON_VuTranHoaiHan_FinalExam/Lib/Functions.ipynb\n"
     ]
    }
   ],
   "source": [
    "import numpy as np\n",
    "import pandas as pd\n",
    "import matplotlib.pyplot as plt\n",
    "import seaborn as sb\n",
    "import import_ipynb\n",
    "import warnings\n",
    "import Lib.Functions as fc\n",
    "import time\n",
    "from sklearn.model_selection import train_test_split, cross_val_score\n",
    "from sklearn.base import BaseEstimator, TransformerMixin\n",
    "warnings.filterwarnings('ignore')"
   ]
  },
  {
   "cell_type": "code",
   "execution_count": 2,
   "metadata": {},
   "outputs": [
    {
     "data": {
      "text/html": [
       "<div>\n",
       "<style scoped>\n",
       "    .dataframe tbody tr th:only-of-type {\n",
       "        vertical-align: middle;\n",
       "    }\n",
       "\n",
       "    .dataframe tbody tr th {\n",
       "        vertical-align: top;\n",
       "    }\n",
       "\n",
       "    .dataframe thead th {\n",
       "        text-align: right;\n",
       "    }\n",
       "</style>\n",
       "<table border=\"1\" class=\"dataframe\">\n",
       "  <thead>\n",
       "    <tr style=\"text-align: right;\">\n",
       "      <th></th>\n",
       "      <th>ID</th>\n",
       "      <th>Noi_dung</th>\n",
       "      <th>Dia_chi</th>\n",
       "      <th>Gia</th>\n",
       "      <th>Nha_ve_sinh</th>\n",
       "      <th>So_phong</th>\n",
       "      <th>Huong</th>\n",
       "      <th>Chieu_dai</th>\n",
       "      <th>Rong</th>\n",
       "      <th>Giay_to</th>\n",
       "      <th>Cau_truc</th>\n",
       "      <th>Dien_tich</th>\n",
       "      <th>Dien_tich_su_dung</th>\n",
       "      <th>Hem_rong</th>\n",
       "      <th>Duong_mat_tien</th>\n",
       "      <th>Tien_ich</th>\n",
       "      <th>Duong</th>\n",
       "      <th>Phuong</th>\n",
       "      <th>Quan</th>\n",
       "    </tr>\n",
       "  </thead>\n",
       "  <tbody>\n",
       "    <tr>\n",
       "      <th>0</th>\n",
       "      <td>149065</td>\n",
       "      <td>Bán nhà 134.7m2 Tân Hiệp Hóc Môn. Cách Đỗ Văn ...</td>\n",
       "      <td>Đường ấp Thới Tây 2, Xã Tân Hiệp, Huyện Hóc Môn</td>\n",
       "      <td>3,7 tỷ 35,4 triệu/m²</td>\n",
       "      <td>4</td>\n",
       "      <td>3</td>\n",
       "      <td>Đ.Bắc</td>\n",
       "      <td>20.71</td>\n",
       "      <td>5.00</td>\n",
       "      <td>Sổ hồng</td>\n",
       "      <td>1 trệt + 1 lầu</td>\n",
       "      <td>104.5</td>\n",
       "      <td>134.7</td>\n",
       "      <td>5.0</td>\n",
       "      <td>0.0</td>\n",
       "      <td>Gần chợ, siêu thị Gần bệnh viện Gần công viên,...</td>\n",
       "      <td>Đường ấp Thới Tây 2</td>\n",
       "      <td>Xã Tân Hiệp</td>\n",
       "      <td>Huyện Hóc Môn</td>\n",
       "    </tr>\n",
       "    <tr>\n",
       "      <th>1</th>\n",
       "      <td>231326</td>\n",
       "      <td>Bán Nhà Nát Gần Mặt Tiền Đường Hậu Giang P11 Q...</td>\n",
       "      <td>Đường Hậu Giang, Phường 11, Quận 6</td>\n",
       "      <td>3,9 tỷ 92,2 triệu/m²</td>\n",
       "      <td>1</td>\n",
       "      <td>--</td>\n",
       "      <td>Tây</td>\n",
       "      <td>12.90</td>\n",
       "      <td>3.00</td>\n",
       "      <td>Sổ hồng</td>\n",
       "      <td>1 trệt</td>\n",
       "      <td>42.3</td>\n",
       "      <td>87.7</td>\n",
       "      <td>6.1</td>\n",
       "      <td>0.0</td>\n",
       "      <td>Gần chợ, siêu thị Gần công viên, trung tâm Di ...</td>\n",
       "      <td>Đường Hậu Giang</td>\n",
       "      <td>Phường 11</td>\n",
       "      <td>Quận 6</td>\n",
       "    </tr>\n",
       "    <tr>\n",
       "      <th>2</th>\n",
       "      <td>184984</td>\n",
       "      <td>Bán nhà riêng Quận Gò Vấp - Nhà còn mới phù hợ...</td>\n",
       "      <td>Đường Nguyễn Thượng Hiền, Phường 1, Quận Gò Vấp</td>\n",
       "      <td>2 tỷ 99 triệu/m²</td>\n",
       "      <td>2</td>\n",
       "      <td>--</td>\n",
       "      <td>T.Nam</td>\n",
       "      <td>3.20</td>\n",
       "      <td>4.65</td>\n",
       "      <td>Sổ hồng</td>\n",
       "      <td>1 trệt, 1 lửng</td>\n",
       "      <td>20.2</td>\n",
       "      <td>150</td>\n",
       "      <td>3.0</td>\n",
       "      <td>0.0</td>\n",
       "      <td>Gần chợ, siêu thị Gần công viên, trung tâm Gầ...</td>\n",
       "      <td>Đường Nguyễn Thượng Hiền</td>\n",
       "      <td>Phường 1</td>\n",
       "      <td>Quận Gò Vấp</td>\n",
       "    </tr>\n",
       "    <tr>\n",
       "      <th>3</th>\n",
       "      <td>205270</td>\n",
       "      <td>Bán Nhà Hẻm Đường Huỳnh Tấn Phát, xã Phú Xuân ...</td>\n",
       "      <td>Đường Huỳnh Tấn Phát, Xã Phú Xuân, Huyện Nhà Bè</td>\n",
       "      <td>3,8 tỷ 52,9 triệu/m²</td>\n",
       "      <td>2</td>\n",
       "      <td>2</td>\n",
       "      <td>Đ.Bắc</td>\n",
       "      <td>14.35</td>\n",
       "      <td>5.00</td>\n",
       "      <td>Sổ hồng</td>\n",
       "      <td>1 trệt + 1 lầu</td>\n",
       "      <td>71.8</td>\n",
       "      <td>137.6</td>\n",
       "      <td>5.0</td>\n",
       "      <td>0.0</td>\n",
       "      <td>Gần chợ, siêu thị Gần bệnh viện Gần công viên...</td>\n",
       "      <td>Đường Huỳnh Tấn Phát</td>\n",
       "      <td>Xã Phú Xuân</td>\n",
       "      <td>Huyện Nhà Bè</td>\n",
       "    </tr>\n",
       "    <tr>\n",
       "      <th>4</th>\n",
       "      <td>307136</td>\n",
       "      <td>Bán Nhà Hẻm 3m Lò Siêu, DT: 5,2x10m, Trệt Lửng...</td>\n",
       "      <td>Đường Lò Siêu, Phường 16, Quận 11</td>\n",
       "      <td>6,5 tỷ 124,8 triệu/m²</td>\n",
       "      <td>5</td>\n",
       "      <td>5</td>\n",
       "      <td>T.Nam</td>\n",
       "      <td>10.00</td>\n",
       "      <td>5.20</td>\n",
       "      <td>Sổ hồng</td>\n",
       "      <td>1 trệt, 1 lửng, 1 tầng thượng + 2 lầu</td>\n",
       "      <td>52.1</td>\n",
       "      <td>70.3</td>\n",
       "      <td>0.0</td>\n",
       "      <td>5.0</td>\n",
       "      <td>NaN</td>\n",
       "      <td>Đường Lò Siêu</td>\n",
       "      <td>Phường 16</td>\n",
       "      <td>Quận 11</td>\n",
       "    </tr>\n",
       "  </tbody>\n",
       "</table>\n",
       "</div>"
      ],
      "text/plain": [
       "       ID                                           Noi_dung  \\\n",
       "0  149065  Bán nhà 134.7m2 Tân Hiệp Hóc Môn. Cách Đỗ Văn ...   \n",
       "1  231326  Bán Nhà Nát Gần Mặt Tiền Đường Hậu Giang P11 Q...   \n",
       "2  184984  Bán nhà riêng Quận Gò Vấp - Nhà còn mới phù hợ...   \n",
       "3  205270  Bán Nhà Hẻm Đường Huỳnh Tấn Phát, xã Phú Xuân ...   \n",
       "4  307136  Bán Nhà Hẻm 3m Lò Siêu, DT: 5,2x10m, Trệt Lửng...   \n",
       "\n",
       "                                           Dia_chi                     Gia  \\\n",
       "0  Đường ấp Thới Tây 2, Xã Tân Hiệp, Huyện Hóc Môn    3,7 tỷ 35,4 triệu/m²   \n",
       "1               Đường Hậu Giang, Phường 11, Quận 6    3,9 tỷ 92,2 triệu/m²   \n",
       "2  Đường Nguyễn Thượng Hiền, Phường 1, Quận Gò Vấp       2 tỷ 99 triệu/m²    \n",
       "3  Đường Huỳnh Tấn Phát, Xã Phú Xuân, Huyện Nhà Bè   3,8 tỷ 52,9 triệu/m²    \n",
       "4                Đường Lò Siêu, Phường 16, Quận 11  6,5 tỷ 124,8 triệu/m²    \n",
       "\n",
       "  Nha_ve_sinh So_phong  Huong  Chieu_dai  Rong  Giay_to  \\\n",
       "0           4        3  Đ.Bắc      20.71  5.00  Sổ hồng   \n",
       "1           1       --    Tây      12.90  3.00  Sổ hồng   \n",
       "2           2     --    T.Nam       3.20  4.65  Sổ hồng   \n",
       "3           2        2  Đ.Bắc      14.35  5.00  Sổ hồng   \n",
       "4           5        5  T.Nam      10.00  5.20  Sổ hồng   \n",
       "\n",
       "                                    Cau_truc Dien_tich Dien_tich_su_dung  \\\n",
       "0                             1 trệt + 1 lầu     104.5             134.7   \n",
       "1                                     1 trệt      42.3              87.7   \n",
       "2                           1 trệt, 1 lửng        20.2               150   \n",
       "3                           1 trệt + 1 lầu        71.8             137.6   \n",
       "4    1 trệt, 1 lửng, 1 tầng thượng + 2 lầu        52.1              70.3   \n",
       "\n",
       "   Hem_rong  Duong_mat_tien  \\\n",
       "0       5.0             0.0   \n",
       "1       6.1             0.0   \n",
       "2       3.0             0.0   \n",
       "3       5.0             0.0   \n",
       "4       0.0             5.0   \n",
       "\n",
       "                                            Tien_ich  \\\n",
       "0  Gần chợ, siêu thị Gần bệnh viện Gần công viên,...   \n",
       "1  Gần chợ, siêu thị Gần công viên, trung tâm Di ...   \n",
       "2   Gần chợ, siêu thị Gần công viên, trung tâm Gầ...   \n",
       "3   Gần chợ, siêu thị Gần bệnh viện Gần công viên...   \n",
       "4                                                NaN   \n",
       "\n",
       "                      Duong        Phuong            Quan  \n",
       "0       Đường ấp Thới Tây 2   Xã Tân Hiệp   Huyện Hóc Môn  \n",
       "1           Đường Hậu Giang     Phường 11          Quận 6  \n",
       "2  Đường Nguyễn Thượng Hiền      Phường 1     Quận Gò Vấp  \n",
       "3      Đường Huỳnh Tấn Phát   Xã Phú Xuân    Huyện Nhà Bè  \n",
       "4             Đường Lò Siêu     Phường 16         Quận 11  "
      ]
     },
     "execution_count": 2,
     "metadata": {},
     "output_type": "execute_result"
    }
   ],
   "source": [
    "df = pd.read_excel('House_data.xlsx')\n",
    "df.head()"
   ]
  },
  {
   "cell_type": "code",
   "execution_count": 3,
   "metadata": {},
   "outputs": [
    {
     "name": "stdout",
     "output_type": "stream",
     "text": [
      "<class 'pandas.core.frame.DataFrame'>\n",
      "RangeIndex: 4386 entries, 0 to 4385\n",
      "Data columns (total 19 columns):\n",
      " #   Column             Non-Null Count  Dtype  \n",
      "---  ------             --------------  -----  \n",
      " 0   ID                 4386 non-null   int64  \n",
      " 1   Noi_dung           4386 non-null   object \n",
      " 2   Dia_chi            4386 non-null   object \n",
      " 3   Gia                4386 non-null   object \n",
      " 4   Nha_ve_sinh        4386 non-null   object \n",
      " 5   So_phong           4386 non-null   object \n",
      " 6   Huong              4386 non-null   object \n",
      " 7   Chieu_dai          4386 non-null   float64\n",
      " 8   Rong               4386 non-null   float64\n",
      " 9   Giay_to            4386 non-null   object \n",
      " 10  Cau_truc           4386 non-null   object \n",
      " 11  Dien_tich          4386 non-null   object \n",
      " 12  Dien_tich_su_dung  4386 non-null   object \n",
      " 13  Hem_rong           4386 non-null   float64\n",
      " 14  Duong_mat_tien     4386 non-null   float64\n",
      " 15  Tien_ich           3551 non-null   object \n",
      " 16  Duong              4386 non-null   object \n",
      " 17  Phuong             4386 non-null   object \n",
      " 18  Quan               4386 non-null   object \n",
      "dtypes: float64(4), int64(1), object(14)\n",
      "memory usage: 651.2+ KB\n"
     ]
    }
   ],
   "source": [
    "df.info()"
   ]
  },
  {
   "cell_type": "markdown",
   "metadata": {},
   "source": [
    "- Ta sẽ xây dựng một số bộ biến đổi tuỳ chỉnh để tiền xử lý dữ liệu và xây dựng Pipeline:"
   ]
  },
  {
   "cell_type": "markdown",
   "metadata": {},
   "source": [
    "1. Lọc và xoá bỏ nhiễu trong input"
   ]
  },
  {
   "cell_type": "code",
   "execution_count": 4,
   "metadata": {},
   "outputs": [],
   "source": [
    "class FilterNoise(BaseEstimator, TransformerMixin):\n",
    "    def __init__(self, col, drop_lst):\n",
    "        self.col = col\n",
    "        self.drop_lst = drop_lst\n",
    "    def fit(self, X, y = None):\n",
    "        return self\n",
    "    def transform(self, df):\n",
    "        X = df.copy()\n",
    "        X[self.col] = X[self.col].str.lower().str.strip()\n",
    "        idx_noise = []\n",
    "        for item in self.drop_lst:\n",
    "            idx = X.loc[X[self.col].map(lambda x: item in x)].index.tolist()\n",
    "            for item in idx:\n",
    "                idx_noise.append(item)\n",
    "        X.drop(idx_noise, inplace = True)\n",
    "        return X"
   ]
  },
  {
   "cell_type": "markdown",
   "metadata": {},
   "source": [
    "2. Tiền xử lý output (tách giá trị, fill dữ liệu thiếu, xoá bỏ nhiễu, ..)"
   ]
  },
  {
   "cell_type": "code",
   "execution_count": 5,
   "metadata": {},
   "outputs": [],
   "source": [
    "class OutputProcessing(BaseEstimator, TransformerMixin):\n",
    "    def __init__(self, col):\n",
    "        self.col = col\n",
    "    def fit(self, df, y = None):\n",
    "        return self\n",
    "    def transform(self, df):\n",
    "        X = df.copy()\n",
    "        X[self.col] = X[self.col].str.strip()\n",
    "        idx_drop1 = X.loc[X[self.col].map(lambda x: x.split()[1] == 'triệu')].index\n",
    "        X.drop(idx_drop1, inplace = True)\n",
    "        idx_drop2 = X.loc[X[self.col].map(lambda x: x.split()[3] != 'triệu/m²')].index\n",
    "        X.drop(idx_drop2, inplace = True)\n",
    "        idx_replace = X.loc[X[self.col].map(lambda x: x.split()[1] != 'tỷ')].index\n",
    "        X['Gia_ban'] = X[self.col].map(lambda x: x.split()[0].replace(',', '.'))\n",
    "        X['Gia_m2'] = X[self.col].map(lambda x: x.split()[2].replace(',', '.'))\n",
    "        X.loc[idx_replace, 'Gia_ban'] = np.nan\n",
    "        X.drop(self.col, axis = 1, inplace = True)\n",
    "        return X"
   ]
  },
  {
   "cell_type": "markdown",
   "metadata": {},
   "source": [
    "3. Tiền xử lý các features: `Dien_tich, Dien_tich_su_dung`"
   ]
  },
  {
   "cell_type": "code",
   "execution_count": 6,
   "metadata": {},
   "outputs": [],
   "source": [
    "class CleaningUsingArea(BaseEstimator, TransformerMixin):\n",
    "    def __init__(self, cols):\n",
    "        self.cols = cols\n",
    "    def fit(self, X, y = None):\n",
    "        return self\n",
    "    def transform(self, df):\n",
    "        X = df.copy()\n",
    "        for col in self.cols:\n",
    "            if X.dtypes[col] == object:\n",
    "                idx_drop = X.loc[X[col].str.isnumeric() == False].index\n",
    "                X.drop(idx_drop, inplace = True)\n",
    "        return X"
   ]
  },
  {
   "cell_type": "markdown",
   "metadata": {},
   "source": [
    "4. Chuyển đôit kiểu dữ liệu các features"
   ]
  },
  {
   "cell_type": "code",
   "execution_count": 7,
   "metadata": {},
   "outputs": [],
   "source": [
    "class ConvertDtype(BaseEstimator, TransformerMixin):\n",
    "    def __init__(self, lst_col):\n",
    "        self.lst_col = lst_col\n",
    "    def fit(self, df, y = None):\n",
    "        return self\n",
    "    def transform(self, df):\n",
    "        X = df.copy()\n",
    "        for col in self.lst_col:\n",
    "            X[col] = X[col].astype(float)\n",
    "        return X"
   ]
  },
  {
   "cell_type": "markdown",
   "metadata": {},
   "source": [
    "5. Nội suy giá trị thiếu của một features từ các features liên quan"
   ]
  },
  {
   "cell_type": "code",
   "execution_count": 8,
   "metadata": {},
   "outputs": [],
   "source": [
    "class FillnaValue(BaseEstimator, TransformerMixin):\n",
    "    def __init__(self, target, col1, col2):\n",
    "        self.target = target\n",
    "        self.col1 = col1\n",
    "        self.col2 = col2\n",
    "    def fit(self, X, y = None):\n",
    "        return self\n",
    "    def transform(self, df):\n",
    "        X = df.copy()\n",
    "        idx_null = X.loc[X[self.target].isnull()].index\n",
    "        X.loc[idx_null, self.target] = round((X.loc[idx_null, self.col1] * X.loc[idx_null, self.col2]) / 1000, 2)\n",
    "        X[self.target] = X[self.target] * 1000\n",
    "        return X"
   ]
  },
  {
   "cell_type": "markdown",
   "metadata": {},
   "source": [
    "6. Biến đổi cột dữ liệu `Cau_truc`"
   ]
  },
  {
   "cell_type": "code",
   "execution_count": 9,
   "metadata": {},
   "outputs": [],
   "source": [
    "class ConstructTransform(BaseEstimator, TransformerMixin):\n",
    "    def __init__(self, col):\n",
    "        self.col = col\n",
    "    def fit(self, X, y = None):\n",
    "        return self\n",
    "    def transform(self, df):\n",
    "        X = df.copy()\n",
    "        X[self.col] = X[self.col].str.strip()\n",
    "        idx_drop = X.loc[X[self.col].map(lambda x: '22 lầu' in x or '--' in x)].index.tolist()\n",
    "        X.drop(idx_drop, inplace = True)\n",
    "        X['0_lau'] = X[self.col].map(lambda x: 1 if 'lầu' not in x else 0)\n",
    "        X['1_lau'] = X[self.col].map(lambda x: 1 if '1 lầu' in x else 0)\n",
    "        X['2_lau'] = X[self.col].map(lambda x: 1 if '2 lầu' in x else 0)\n",
    "        X['3_lau'] = X[self.col].map(lambda x: 1 if '3 lầu' in x else 0)\n",
    "        X['4_lau'] = X[self.col].map(lambda x: 1 if '4 lầu' in x else 0)\n",
    "        X['5_lau'] = X[self.col].map(lambda x: 1 if '5 lầu' in x else 0)\n",
    "        X['6_lau'] = X[self.col].map(lambda x: 1 if '6 lầu' in x else 0)\n",
    "        X['7_lau'] = X[self.col].map(lambda x: 1 if '7 lầu' in x else 0)\n",
    "        X['Tang_thuong'] = X[self.col].map(lambda x: 1 if 'tầng thượng' in x else 0)\n",
    "        X['Tang_ham'] = X[self.col].map(lambda x: 1 if 'tầng hầm' in x else 0)\n",
    "        X['Tang_lung'] = X[self.col].map(lambda x: 1 if 'lửng' in x or 'áp mái' in x or 'gác suốt' in x else 0)\n",
    "        X.drop(self.col, axis = 1, inplace = True)\n",
    "        return X"
   ]
  },
  {
   "cell_type": "markdown",
   "metadata": {},
   "source": [
    "7. Xoá bỏ các cột trong `DataFrame`"
   ]
  },
  {
   "cell_type": "code",
   "execution_count": 10,
   "metadata": {},
   "outputs": [],
   "source": [
    "class DataFrameDroping(BaseEstimator, TransformerMixin):\n",
    "    def __init__(self, cols):\n",
    "        self.cols = cols\n",
    "    def fit(self, X, y = None):\n",
    "        return self\n",
    "    def transform(self, df):\n",
    "        X = df.copy()\n",
    "        X.drop(self.cols, axis = 1, inplace = True)\n",
    "        return X"
   ]
  },
  {
   "cell_type": "markdown",
   "metadata": {},
   "source": [
    "8. Xoá bỏ các giá trị tuỳ chọn trong cột trong `DataFrame`"
   ]
  },
  {
   "cell_type": "code",
   "execution_count": 11,
   "metadata": {},
   "outputs": [],
   "source": [
    "class DropingValue(BaseEstimator, TransformerMixin):\n",
    "    def __init__(self, col, value):\n",
    "        self.col = col\n",
    "        self.value = value\n",
    "    def fit(self, X, y = None):\n",
    "        return self\n",
    "    def transform(self, df):\n",
    "        X = df.copy()\n",
    "        idx_drop = X.loc[X[self.col] >= self.value].index\n",
    "        X.drop(idx_drop, inplace = True)\n",
    "        return X"
   ]
  },
  {
   "cell_type": "markdown",
   "metadata": {},
   "source": [
    "9. Encode các categorical features trong `DataFrame`"
   ]
  },
  {
   "cell_type": "code",
   "execution_count": 12,
   "metadata": {},
   "outputs": [],
   "source": [
    "class EncoderCatColumns(BaseEstimator, TransformerMixin):\n",
    "    import pandas as pd\n",
    "    def __init__(self):\n",
    "        return None\n",
    "    def fit(self, X, y = None):\n",
    "        return self\n",
    "    def transform(self, df):\n",
    "        X = df.copy()\n",
    "        cat = [col for col in X.columns if X.dtypes[col] == object]\n",
    "        X_new = pd.get_dummies(data = X, columns = cat)\n",
    "        return X_new"
   ]
  },
  {
   "cell_type": "markdown",
   "metadata": {},
   "source": [
    "10. Nội suy các giá trị nhiễu từ các cột có liên quan"
   ]
  },
  {
   "cell_type": "code",
   "execution_count": 13,
   "metadata": {},
   "outputs": [],
   "source": [
    "class FillRelateValue(BaseEstimator, TransformerMixin):\n",
    "    def __init__(self, target, col1, col2):\n",
    "        self.target = target\n",
    "        self.col1 = col1\n",
    "        self.col2 = col2\n",
    "    def fit(self, X, y = None):\n",
    "        return self\n",
    "    def transform(self, df):\n",
    "        X = df.copy()\n",
    "        idx_replace = X.loc[X[self.target].str.isnumeric() == False].index\n",
    "        X.loc[idx_replace, self.target] = X.loc[idx_replace, self.col1] * X.loc[idx_replace, self.col2]\n",
    "        return X"
   ]
  },
  {
   "cell_type": "markdown",
   "metadata": {},
   "source": [
    "- Ta sẽ tiền xử lý dữ liệu, loại bỏ những cột không cần thiết và quan sát giá trị của các features:"
   ]
  },
  {
   "cell_type": "code",
   "execution_count": 14,
   "metadata": {},
   "outputs": [],
   "source": [
    "from sklearn.pipeline import Pipeline\n",
    "\n",
    "preprocessing = Pipeline([('0', FilterNoise('Noi_dung', ['biệt thự', 'dãy nhà trọ', 'dãy phòng trọ', \n",
    "                                                            'dãy trọ', 'nhà trọ', 'lô đất', 'nhà và đất', \n",
    "                                                            '7 căn', '2 căn', 'khu đô thị', 'toà nhà văn phòng', \n",
    "                                                            'tòa nhà văn phòng', 'khách sạn', 'nhà xưởng', \n",
    "                                                            'bán tầng', 'toà nhà', 'tòa nhà','shophouse', \n",
    "                                                            'phòng trọ', 'kho xưởng', '6 căn'])),\n",
    "                          ('1', OutputProcessing('Gia')),\n",
    "                          ('2', CleaningUsingArea(['Dien_tich', 'Dien_tich_su_dung'])),\n",
    "                          ('3', ConvertDtype(['Gia_ban', 'Gia_m2', 'Dien_tich', 'Dien_tich_su_dung'])),\n",
    "                          ('4', FillnaValue('Gia_ban', 'Gia_m2', 'Dien_tich')),\n",
    "                          ('5', ConstructTransform('Cau_truc')),\n",
    "                          ('6', DataFrameDroping(['ID', 'Dia_chi','Tien_ich', 'Nha_ve_sinh', 'Noi_dung', 'Huong',\n",
    "                                                    'So_phong', 'Duong', 'Giay_to', 'Phuong']))])"
   ]
  },
  {
   "cell_type": "code",
   "execution_count": 15,
   "metadata": {},
   "outputs": [],
   "source": [
    "df_process = preprocessing.fit_transform(df)"
   ]
  },
  {
   "cell_type": "markdown",
   "metadata": {},
   "source": [
    "- Phân tích các biến liên tục trong dữ liệu đã tiền xử lý:"
   ]
  },
  {
   "cell_type": "code",
   "execution_count": 16,
   "metadata": {
    "scrolled": true
   },
   "outputs": [
    {
     "name": "stdout",
     "output_type": "stream",
     "text": [
      "----- Chieu_dai -----\n",
      "count    4162.000000\n",
      "mean       14.074094\n",
      "std         6.455977\n",
      "min         1.000000\n",
      "25%         9.760000\n",
      "50%        13.245000\n",
      "75%        17.500000\n",
      "max       101.460000\n",
      "Name: Chieu_dai, dtype: float64\n",
      "* Median: 13.245000000000001\n",
      "* Skewness: 1.7333529445016154\n",
      "* Kurtosis: 11.22696297438021\n",
      "* Percentage of outliers: 0.02426717924074964\n",
      "* Number of missing value: 0\n"
     ]
    },
    {
     "data": {
      "image/png": "[encoded data removed]",
      "text/plain": [
       "<Figure size 576x432 with 2 Axes>"
      ]
     },
     "metadata": {
      "needs_background": "light"
     },
     "output_type": "display_data"
    },
    {
     "name": "stdout",
     "output_type": "stream",
     "text": [
      "\n",
      "----- Rong -----\n",
      "count    4162.000000\n",
      "mean        4.519985\n",
      "std         1.932075\n",
      "min         0.750000\n",
      "25%         3.500000\n",
      "50%         4.000000\n",
      "75%         5.000000\n",
      "max        30.340000\n",
      "Name: Rong, dtype: float64\n",
      "* Median: 4.0\n",
      "* Skewness: 3.7482096415518997\n",
      "* Kurtosis: 24.58057835567597\n",
      "* Percentage of outliers: 0.06871696299855838\n",
      "* Number of missing value: 0\n"
     ]
    },
    {
     "data": {
      "image/png": "[encoded data removed]",
      "text/plain": [
       "<Figure size 576x432 with 2 Axes>"
      ]
     },
     "metadata": {
      "needs_background": "light"
     },
     "output_type": "display_data"
    },
    {
     "name": "stdout",
     "output_type": "stream",
     "text": [
      "\n",
      "----- Dien_tich -----\n",
      "count    4162.000000\n",
      "mean       63.764584\n",
      "std        48.058824\n",
      "min         7.500000\n",
      "25%        36.000000\n",
      "50%        53.300000\n",
      "75%        77.250000\n",
      "max       724.600000\n",
      "Name: Dien_tich, dtype: float64\n",
      "* Median: 53.3\n",
      "* Skewness: 4.334797731470058\n",
      "* Kurtosis: 35.793329422481584\n",
      "* Percentage of outliers: 0.04925516578567996\n",
      "* Number of missing value: 0\n"
     ]
    },
    {
     "data": {
      "image/png": "[encoded data removed]",
      "text/plain": [
       "<Figure size 576x432 with 2 Axes>"
      ]
     },
     "metadata": {
      "needs_background": "light"
     },
     "output_type": "display_data"
    },
    {
     "name": "stdout",
     "output_type": "stream",
     "text": [
      "\n",
      "----- Dien_tich_su_dung -----\n",
      "count    4162.000000\n",
      "mean      132.703380\n",
      "std        98.689735\n",
      "min         1.469000\n",
      "25%        67.500000\n",
      "50%       108.400000\n",
      "75%       172.650000\n",
      "max       990.000000\n",
      "Name: Dien_tich_su_dung, dtype: float64\n",
      "* Median: 108.4\n",
      "* Skewness: 2.890111521612861\n",
      "* Kurtosis: 15.110570673600552\n",
      "* Percentage of outliers: 0.03315713599231139\n",
      "* Number of missing value: 0\n"
     ]
    },
    {
     "data": {
      "image/png": "[encoded data removed]",
      "text/plain": [
       "<Figure size 576x432 with 2 Axes>"
      ]
     },
     "metadata": {
      "needs_background": "light"
     },
     "output_type": "display_data"
    },
    {
     "name": "stdout",
     "output_type": "stream",
     "text": [
      "\n",
      "----- Hem_rong -----\n",
      "count    4162.000000\n",
      "mean        3.124792\n",
      "std         2.492314\n",
      "min         0.000000\n",
      "25%         1.700000\n",
      "50%         3.000000\n",
      "75%         4.500000\n",
      "max        32.000000\n",
      "Name: Hem_rong, dtype: float64\n",
      "* Median: 3.0\n",
      "* Skewness: 1.4998456574239436\n",
      "* Kurtosis: 9.501828430344343\n",
      "* Percentage of outliers: 0.02114368092263335\n",
      "* Number of missing value: 0\n"
     ]
    },
    {
     "data": {
      "image/png": "[encoded data removed]",
      "text/plain": [
       "<Figure size 576x432 with 2 Axes>"
      ]
     },
     "metadata": {
      "needs_background": "light"
     },
     "output_type": "display_data"
    },
    {
     "name": "stdout",
     "output_type": "stream",
     "text": [
      "\n",
      "----- Duong_mat_tien -----\n",
      "count    4162.000000\n",
      "mean        2.958626\n",
      "std         6.400921\n",
      "min         0.000000\n",
      "25%         0.000000\n",
      "50%         0.000000\n",
      "75%         0.000000\n",
      "max        60.000000\n",
      "Name: Duong_mat_tien, dtype: float64\n",
      "* Median: 0.0\n",
      "* Skewness: 2.9082880205492425\n",
      "* Kurtosis: 11.761157981285283\n",
      "* Percentage of outliers: 0.23690533397405095\n",
      "* Number of missing value: 0\n"
     ]
    },
    {
     "data": {
      "image/png": "[encoded data removed]",
      "text/plain": [
       "<Figure size 576x432 with 2 Axes>"
      ]
     },
     "metadata": {
      "needs_background": "light"
     },
     "output_type": "display_data"
    },
    {
     "name": "stdout",
     "output_type": "stream",
     "text": [
      "\n",
      "----- Gia_ban -----\n",
      "count      4162.000000\n",
      "mean       8015.274387\n",
      "std        6889.184995\n",
      "min        1050.000000\n",
      "25%        3970.000000\n",
      "50%        6000.000000\n",
      "75%        9500.000000\n",
      "max      101000.000000\n",
      "Name: Gia_ban, dtype: float64\n",
      "* Median: 6000.0\n",
      "* Skewness: 3.5174691537424563\n",
      "* Kurtosis: 22.420316527840185\n",
      "* Percentage of outliers: 0.06967803940413263\n",
      "* Number of missing value: 0\n"
     ]
    },
    {
     "data": {
      "image/png": "[encoded data removed]",
      "text/plain": [
       "<Figure size 576x432 with 2 Axes>"
      ]
     },
     "metadata": {
      "needs_background": "light"
     },
     "output_type": "display_data"
    },
    {
     "name": "stdout",
     "output_type": "stream",
     "text": [
      "\n",
      "----- Gia_m2 -----\n",
      "count    4162.000000\n",
      "mean      138.785127\n",
      "std        84.775221\n",
      "min         9.300000\n",
      "25%        85.100000\n",
      "50%       117.600000\n",
      "75%       169.675000\n",
      "max       814.700000\n",
      "Name: Gia_m2, dtype: float64\n",
      "* Median: 117.6\n",
      "* Skewness: 2.2247617053585977\n",
      "* Kurtosis: 7.874227805104634\n",
      "* Percentage of outliers: 0.04853435848149928\n",
      "* Number of missing value: 0\n"
     ]
    },
    {
     "data": {
      "image/png": "[encoded data removed]",
      "text/plain": [
       "<Figure size 576x432 with 2 Axes>"
      ]
     },
     "metadata": {
      "needs_background": "light"
     },
     "output_type": "display_data"
    },
    {
     "name": "stdout",
     "output_type": "stream",
     "text": [
      "\n",
      "----- 0_lau -----\n",
      "count    4162.000000\n",
      "mean        0.151129\n",
      "std         0.358218\n",
      "min         0.000000\n",
      "25%         0.000000\n",
      "50%         0.000000\n",
      "75%         0.000000\n",
      "max         1.000000\n",
      "Name: 0_lau, dtype: float64\n",
      "* Median: 0.0\n",
      "* Skewness: 1.9487495853800891\n",
      "* Kurtosis: 1.7984889582981447\n",
      "* Percentage of outliers: 0.15112926477654973\n",
      "* Number of missing value: 0\n"
     ]
    },
    {
     "data": {
      "image/png": "[encoded data removed]",
      "text/plain": [
       "<Figure size 576x432 with 2 Axes>"
      ]
     },
     "metadata": {
      "needs_background": "light"
     },
     "output_type": "display_data"
    },
    {
     "name": "stdout",
     "output_type": "stream",
     "text": [
      "\n",
      "----- 1_lau -----\n",
      "count    4162.000000\n",
      "mean        0.358722\n",
      "std         0.479683\n",
      "min         0.000000\n",
      "25%         0.000000\n",
      "50%         0.000000\n",
      "75%         1.000000\n",
      "max         1.000000\n",
      "Name: 1_lau, dtype: float64\n",
      "* Median: 0.0\n",
      "* Skewness: 0.5893315559964496\n",
      "* Kurtosis: -1.6534831099730567\n",
      "* Percentage of outliers: 0.0\n",
      "* Number of missing value: 0\n"
     ]
    },
    {
     "data": {
      "image/png": "[encoded data removed]",
      "text/plain": [
       "<Figure size 576x432 with 2 Axes>"
      ]
     },
     "metadata": {
      "needs_background": "light"
     },
     "output_type": "display_data"
    },
    {
     "name": "stdout",
     "output_type": "stream",
     "text": [
      "\n",
      "----- 2_lau -----\n",
      "count    4162.000000\n",
      "mean        0.364008\n",
      "std         0.481209\n",
      "min         0.000000\n",
      "25%         0.000000\n",
      "50%         0.000000\n",
      "75%         1.000000\n",
      "max         1.000000\n",
      "Name: 2_lau, dtype: float64\n",
      "* Median: 0.0\n",
      "* Skewness: 0.5654831974445053\n",
      "* Kurtosis: -1.6810367868700966\n",
      "* Percentage of outliers: 0.0\n",
      "* Number of missing value: 0\n"
     ]
    },
    {
     "data": {
      "image/png": "[encoded data removed]",
      "text/plain": [
       "<Figure size 576x432 with 2 Axes>"
      ]
     },
     "metadata": {
      "needs_background": "light"
     },
     "output_type": "display_data"
    },
    {
     "name": "stdout",
     "output_type": "stream",
     "text": [
      "\n",
      "----- 3_lau -----\n",
      "count    4162.000000\n",
      "mean        0.105959\n",
      "std         0.307822\n",
      "min         0.000000\n",
      "25%         0.000000\n",
      "50%         0.000000\n",
      "75%         0.000000\n",
      "max         1.000000\n",
      "Name: 3_lau, dtype: float64\n",
      "* Median: 0.0\n",
      "* Skewness: 2.561422848262669\n",
      "* Kurtosis: 4.563079510910133\n",
      "* Percentage of outliers: 0.1059586737145603\n",
      "* Number of missing value: 0\n"
     ]
    },
    {
     "data": {
      "image/png": "[encoded data removed]",
      "text/plain": [
       "<Figure size 576x432 with 2 Axes>"
      ]
     },
     "metadata": {
      "needs_background": "light"
     },
     "output_type": "display_data"
    },
    {
     "name": "stdout",
     "output_type": "stream",
     "text": [
      "\n",
      "----- 4_lau -----\n",
      "count    4162.000000\n",
      "mean        0.015617\n",
      "std         0.124005\n",
      "min         0.000000\n",
      "25%         0.000000\n",
      "50%         0.000000\n",
      "75%         0.000000\n",
      "max         1.000000\n",
      "Name: 4_lau, dtype: float64\n",
      "* Median: 0.0\n",
      "* Skewness: 7.816051789006491\n",
      "* Kurtosis: 59.11907431446146\n",
      "* Percentage of outliers: 0.01561749159058145\n",
      "* Number of missing value: 0\n"
     ]
    },
    {
     "data": {
      "image/png": "[encoded data removed]",
      "text/plain": [
       "<Figure size 576x432 with 2 Axes>"
      ]
     },
     "metadata": {
      "needs_background": "light"
     },
     "output_type": "display_data"
    },
    {
     "name": "stdout",
     "output_type": "stream",
     "text": [
      "\n",
      "----- 5_lau -----\n",
      "count    4162.000000\n",
      "mean        0.003604\n",
      "std         0.059933\n",
      "min         0.000000\n",
      "25%         0.000000\n",
      "50%         0.000000\n",
      "75%         0.000000\n",
      "max         1.000000\n",
      "Name: 5_lau, dtype: float64\n",
      "* Median: 0.0\n",
      "* Skewness: 16.573118317336178\n",
      "* Kurtosis: 272.79934104965986\n",
      "* Percentage of outliers: 0.0036040365209034117\n",
      "* Number of missing value: 0\n"
     ]
    },
    {
     "data": {
      "image/png": "[encoded data removed]",
      "text/plain": [
       "<Figure size 576x432 with 2 Axes>"
      ]
     },
     "metadata": {
      "needs_background": "light"
     },
     "output_type": "display_data"
    },
    {
     "name": "stdout",
     "output_type": "stream",
     "text": [
      "\n",
      "----- 6_lau -----\n",
      "count    4162.000000\n",
      "mean        0.000721\n",
      "std         0.026841\n",
      "min         0.000000\n",
      "25%         0.000000\n",
      "50%         0.000000\n",
      "75%         0.000000\n",
      "max         1.000000\n",
      "Name: 6_lau, dtype: float64\n",
      "* Median: 0.0\n",
      "* Skewness: 37.22005551413495\n",
      "* Kurtosis: 1383.9975960385832\n",
      "* Percentage of outliers: 0.0007208073041806823\n",
      "* Number of missing value: 0\n"
     ]
    },
    {
     "data": {
      "image/png": "[encoded data removed]",
      "text/plain": [
       "<Figure size 576x432 with 2 Axes>"
      ]
     },
     "metadata": {
      "needs_background": "light"
     },
     "output_type": "display_data"
    },
    {
     "name": "stdout",
     "output_type": "stream",
     "text": [
      "\n",
      "----- 7_lau -----\n",
      "count    4162.000000\n",
      "mean        0.000240\n",
      "std         0.015501\n",
      "min         0.000000\n",
      "25%         0.000000\n",
      "50%         0.000000\n",
      "75%         0.000000\n",
      "max         1.000000\n",
      "Name: 7_lau, dtype: float64\n",
      "* Median: 0.0\n",
      "* Skewness: 64.51356446515726\n",
      "* Kurtosis: 4162.000000000003\n",
      "* Percentage of outliers: 0.0002402691013935608\n",
      "* Number of missing value: 0\n"
     ]
    },
    {
     "data": {
      "image/png": "[encoded data removed]",
      "text/plain": [
       "<Figure size 576x432 with 2 Axes>"
      ]
     },
     "metadata": {
      "needs_background": "light"
     },
     "output_type": "display_data"
    },
    {
     "name": "stdout",
     "output_type": "stream",
     "text": [
      "\n",
      "----- Tang_thuong -----\n",
      "count    4162.000000\n",
      "mean        0.277751\n",
      "std         0.447944\n",
      "min         0.000000\n",
      "25%         0.000000\n",
      "50%         0.000000\n",
      "75%         1.000000\n",
      "max         1.000000\n",
      "Name: Tang_thuong, dtype: float64\n",
      "* Median: 0.0\n",
      "* Skewness: 0.9927842722906668\n",
      "* Kurtosis: -1.0148673022305792\n",
      "* Percentage of outliers: 0.0\n",
      "* Number of missing value: 0\n"
     ]
    },
    {
     "data": {
      "image/png": "[encoded data removed]",
      "text/plain": [
       "<Figure size 576x432 with 2 Axes>"
      ]
     },
     "metadata": {
      "needs_background": "light"
     },
     "output_type": "display_data"
    },
    {
     "name": "stdout",
     "output_type": "stream",
     "text": [
      "\n",
      "----- Tang_ham -----\n",
      "count    4162.000000\n",
      "mean        0.005526\n",
      "std         0.074142\n",
      "min         0.000000\n",
      "25%         0.000000\n",
      "50%         0.000000\n",
      "75%         0.000000\n",
      "max         1.000000\n",
      "Name: Tang_ham, dtype: float64\n",
      "* Median: 0.0\n",
      "* Skewness: 13.345052912649077\n",
      "* Kurtosis: 176.17509588416016\n",
      "* Percentage of outliers: 0.005526189332051898\n",
      "* Number of missing value: 0\n"
     ]
    },
    {
     "data": {
      "image/png": "[encoded data removed]",
      "text/plain": [
       "<Figure size 576x432 with 2 Axes>"
      ]
     },
     "metadata": {
      "needs_background": "light"
     },
     "output_type": "display_data"
    },
    {
     "name": "stdout",
     "output_type": "stream",
     "text": [
      "\n",
      "----- Tang_lung -----\n",
      "count    4162.000000\n",
      "mean        0.251562\n",
      "std         0.433963\n",
      "min         0.000000\n",
      "25%         0.000000\n",
      "50%         0.000000\n",
      "75%         1.000000\n",
      "max         1.000000\n",
      "Name: Tang_lung, dtype: float64\n",
      "* Median: 0.0\n",
      "* Skewness: 1.1455254262398422\n",
      "* Kurtosis: -0.6881023883337245\n",
      "* Percentage of outliers: 0.0\n",
      "* Number of missing value: 0\n"
     ]
    },
    {
     "data": {
      "image/png": "[encoded data removed]",
      "text/plain": [
       "<Figure size 576x432 with 2 Axes>"
      ]
     },
     "metadata": {
      "needs_background": "light"
     },
     "output_type": "display_data"
    },
    {
     "name": "stdout",
     "output_type": "stream",
     "text": [
      "\n"
     ]
    }
   ],
   "source": [
    "cont = fc.numbers_variable(df_process)\n",
    "for col in cont:\n",
    "    fc.continuous_analysis(df_process, col)"
   ]
  },
  {
   "cell_type": "markdown",
   "metadata": {},
   "source": [
    "*Nhận xét:*\n",
    "\n",
    "- Vì dữ liệu bài toán quá nhỏ, outliers ở các features khá nhiều nên ta sẽ giả định bài toán dự đoán giá nhà này cho đối tượng nhà ở trung bình, loại đi các yếu tố giá nhà biệt thự, nhà trọ, đất, nhà xưởng, vv, dữ liệu sử dụng để huấn luyện mô hình được xử lý trong pipeline đầy đủ sau:"
   ]
  },
  {
   "cell_type": "code",
   "execution_count": 17,
   "metadata": {},
   "outputs": [],
   "source": [
    "from sklearn.pipeline import Pipeline\n",
    "\n",
    "full_preprocessing = Pipeline([('0', FilterNoise('Noi_dung', ['biệt thự', 'dãy nhà trọ', 'dãy phòng trọ', \n",
    "                                                            'dãy trọ', 'nhà trọ', 'lô đất', 'nhà và đất', \n",
    "                                                            '7 căn', '2 căn', 'khu đô thị', 'toà nhà văn phòng', \n",
    "                                                            'tòa nhà văn phòng', 'khách sạn', 'nhà xưởng', \n",
    "                                                            'bán tầng', 'toà nhà', 'tòa nhà','shophouse', \n",
    "                                                            'phòng trọ', 'kho xưởng', '6 căn'])),\n",
    "                          ('1', OutputProcessing('Gia')),\n",
    "                          ('2', CleaningUsingArea(['Dien_tich', 'Dien_tich_su_dung'])),\n",
    "                          ('3', ConvertDtype(['Gia_ban', 'Gia_m2', 'Dien_tich', 'Dien_tich_su_dung'])),\n",
    "                          ('4', FillnaValue('Gia_ban', 'Gia_m2', 'Dien_tich')),\n",
    "                          ('5', ConstructTransform('Cau_truc')),\n",
    "                          ('6', DataFrameDroping(['ID', 'Dia_chi','Tien_ich', 'Nha_ve_sinh', 'Noi_dung', 'Huong',\n",
    "                                                    'So_phong', 'Duong', 'Giay_to', 'Phuong'])),\n",
    "                          ('7', DataFrameDroping(['Gia_m2'])),\n",
    "                          ('8', EncoderCatColumns())])"
   ]
  },
  {
   "cell_type": "code",
   "execution_count": 18,
   "metadata": {},
   "outputs": [],
   "source": [
    "df_new = full_preprocessing.fit_transform(df)"
   ]
  },
  {
   "cell_type": "markdown",
   "metadata": {},
   "source": [
    "- Ta sẽ không tách dữ liệu này ra thành hai tập là tập huấn luyện và tập kiểm tra, nên ta sẽ viết một hàm tính trung binh điểm số RMSE trên 5 fold kiểm định chéo:"
   ]
  },
  {
   "cell_type": "code",
   "execution_count": 19,
   "metadata": {},
   "outputs": [],
   "source": [
    "def eval_cross_rmse(model, X, y, cv = 5):\n",
    "    import numpy as np\n",
    "    from sklearn.model_selection import cross_val_score\n",
    "    from sklearn.metrics import mean_squared_error\n",
    "    scores = cross_val_score(model, X, y, scoring = 'neg_mean_squared_error', cv = cv)\n",
    "    rmse_scores = np.sqrt(-scores)\n",
    "    print('* Scores RMSE: {}'.format(rmse_scores))\n",
    "    print('* Mean RMSE: {}'.format(round(rmse_scores.mean(), 2)))\n",
    "    print('* Std RMSE: {}'.format(round(rmse_scores.std(), 2)))"
   ]
  },
  {
   "cell_type": "code",
   "execution_count": 20,
   "metadata": {},
   "outputs": [],
   "source": [
    "X = df_new.drop('Gia_ban', axis = 1)\n",
    "y = df_new['Gia_ban']"
   ]
  },
  {
   "cell_type": "markdown",
   "metadata": {},
   "source": [
    "- Ta sẽ bắt đầu với các thuật toán trong lớp `ensemble`:"
   ]
  },
  {
   "cell_type": "code",
   "execution_count": 21,
   "metadata": {},
   "outputs": [
    {
     "data": {
      "text/plain": [
       "RandomForestRegressor(n_estimators=150, random_state=42)"
      ]
     },
     "execution_count": 21,
     "metadata": {},
     "output_type": "execute_result"
    }
   ],
   "source": [
    "from sklearn.ensemble import RandomForestRegressor\n",
    "\n",
    "forest = RandomForestRegressor(n_estimators = 150, random_state = 42)\n",
    "forest.fit(X, y)"
   ]
  },
  {
   "cell_type": "code",
   "execution_count": 22,
   "metadata": {},
   "outputs": [
    {
     "data": {
      "text/plain": [
       "0.9532271776650744"
      ]
     },
     "execution_count": 22,
     "metadata": {},
     "output_type": "execute_result"
    }
   ],
   "source": [
    "forest.score(X, y)"
   ]
  },
  {
   "cell_type": "code",
   "execution_count": 23,
   "metadata": {},
   "outputs": [
    {
     "data": {
      "text/plain": [
       "array([0.64005243, 0.67215086, 0.68134212, 0.61737902, 0.64035441])"
      ]
     },
     "execution_count": 23,
     "metadata": {},
     "output_type": "execute_result"
    }
   ],
   "source": [
    "forest_score = cross_val_score(forest, X, y)\n",
    "forest_score"
   ]
  },
  {
   "cell_type": "code",
   "execution_count": 24,
   "metadata": {},
   "outputs": [
    {
     "data": {
      "text/plain": [
       "0.6502557700862451"
      ]
     },
     "execution_count": 24,
     "metadata": {},
     "output_type": "execute_result"
    }
   ],
   "source": [
    "forest_score.mean()"
   ]
  },
  {
   "cell_type": "code",
   "execution_count": 25,
   "metadata": {},
   "outputs": [
    {
     "name": "stdout",
     "output_type": "stream",
     "text": [
      "* Scores RMSE: [4013.97559534 3884.89805878 3855.78460437 4614.00283614 3982.03051455]\n",
      "* Mean RMSE: 4070.14\n",
      "* Std RMSE: 278.2\n"
     ]
    }
   ],
   "source": [
    "eval_cross_rmse(forest, X, y)"
   ]
  },
  {
   "cell_type": "code",
   "execution_count": 26,
   "metadata": {},
   "outputs": [
    {
     "data": {
      "text/plain": [
       "AdaBoostRegressor(base_estimator=DecisionTreeRegressor(random_state=42),\n",
       "                  learning_rate=0.5, n_estimators=200, random_state=42)"
      ]
     },
     "execution_count": 26,
     "metadata": {},
     "output_type": "execute_result"
    }
   ],
   "source": [
    "from sklearn.tree import DecisionTreeRegressor\n",
    "from sklearn.ensemble import AdaBoostRegressor\n",
    "tree_base = DecisionTreeRegressor(random_state = 42)\n",
    "\n",
    "ada_reg = AdaBoostRegressor(tree_base, n_estimators = 200, learning_rate = 0.5, random_state = 42)\n",
    "ada_reg.fit(X, y)"
   ]
  },
  {
   "cell_type": "code",
   "execution_count": 27,
   "metadata": {},
   "outputs": [
    {
     "data": {
      "text/plain": [
       "0.999557202775628"
      ]
     },
     "execution_count": 27,
     "metadata": {},
     "output_type": "execute_result"
    }
   ],
   "source": [
    "ada_reg.score(X, y)"
   ]
  },
  {
   "cell_type": "code",
   "execution_count": 28,
   "metadata": {},
   "outputs": [
    {
     "data": {
      "text/plain": [
       "array([0.63771459, 0.6661401 , 0.60182692, 0.60508906, 0.63201833])"
      ]
     },
     "execution_count": 28,
     "metadata": {},
     "output_type": "execute_result"
    }
   ],
   "source": [
    "ada_score = cross_val_score(ada_reg, X, y)\n",
    "ada_score"
   ]
  },
  {
   "cell_type": "code",
   "execution_count": 29,
   "metadata": {},
   "outputs": [
    {
     "data": {
      "text/plain": [
       "0.6285577997317304"
      ]
     },
     "execution_count": 29,
     "metadata": {},
     "output_type": "execute_result"
    }
   ],
   "source": [
    "ada_score.mean()"
   ]
  },
  {
   "cell_type": "code",
   "execution_count": 30,
   "metadata": {},
   "outputs": [
    {
     "name": "stdout",
     "output_type": "stream",
     "text": [
      "* Scores RMSE: [4026.98977757 3920.34901535 4310.09045338 4687.51909432 4027.91511955]\n",
      "* Mean RMSE: 4194.57\n",
      "* Std RMSE: 278.35\n"
     ]
    }
   ],
   "source": [
    "eval_cross_rmse(ada_reg, X, y)"
   ]
  },
  {
   "cell_type": "code",
   "execution_count": 31,
   "metadata": {},
   "outputs": [
    {
     "data": {
      "text/plain": [
       "ExtraTreesRegressor(n_estimators=350, random_state=42)"
      ]
     },
     "execution_count": 31,
     "metadata": {},
     "output_type": "execute_result"
    }
   ],
   "source": [
    "from sklearn.ensemble import ExtraTreesRegressor\n",
    "\n",
    "trees = ExtraTreesRegressor(n_estimators = 350, random_state = 42)\n",
    "trees.fit(X, y)"
   ]
  },
  {
   "cell_type": "code",
   "execution_count": 32,
   "metadata": {},
   "outputs": [
    {
     "data": {
      "text/plain": [
       "0.9999988209883667"
      ]
     },
     "execution_count": 32,
     "metadata": {},
     "output_type": "execute_result"
    }
   ],
   "source": [
    "trees.score(X, y)"
   ]
  },
  {
   "cell_type": "code",
   "execution_count": 33,
   "metadata": {},
   "outputs": [
    {
     "data": {
      "text/plain": [
       "array([0.67517437, 0.72286993, 0.6812009 , 0.62546999, 0.68694651])"
      ]
     },
     "execution_count": 33,
     "metadata": {},
     "output_type": "execute_result"
    }
   ],
   "source": [
    "trees_score = cross_val_score(trees, X, y)\n",
    "trees_score"
   ]
  },
  {
   "cell_type": "code",
   "execution_count": 34,
   "metadata": {},
   "outputs": [
    {
     "data": {
      "text/plain": [
       "0.6783323399775781"
      ]
     },
     "execution_count": 34,
     "metadata": {},
     "output_type": "execute_result"
    }
   ],
   "source": [
    "trees_score.mean()"
   ]
  },
  {
   "cell_type": "code",
   "execution_count": 35,
   "metadata": {},
   "outputs": [
    {
     "name": "stdout",
     "output_type": "stream",
     "text": [
      "* Scores RMSE: [3813.11803215 3571.77775903 3856.63892607 4564.95793065 3715.15118148]\n",
      "* Mean RMSE: 3904.33\n",
      "* Std RMSE: 344.5\n"
     ]
    }
   ],
   "source": [
    "eval_cross_rmse(trees, X, y)"
   ]
  },
  {
   "cell_type": "code",
   "execution_count": 36,
   "metadata": {},
   "outputs": [
    {
     "data": {
      "text/plain": [
       "XGBRegressor(base_score=0.5, booster='gbtree', colsample_bylevel=1,\n",
       "             colsample_bynode=1, colsample_bytree=1, gamma=0, gpu_id=-1,\n",
       "             importance_type='gain', interaction_constraints='',\n",
       "             learning_rate=0.300000012, max_delta_step=0, max_depth=6,\n",
       "             min_child_weight=1, missing=nan, monotone_constraints='()',\n",
       "             n_estimators=100, n_jobs=12, num_parallel_tree=1, random_state=42,\n",
       "             reg_alpha=0, reg_lambda=1, scale_pos_weight=1, subsample=1,\n",
       "             tree_method='exact', validate_parameters=1, verbosity=None)"
      ]
     },
     "execution_count": 36,
     "metadata": {},
     "output_type": "execute_result"
    }
   ],
   "source": [
    "import xgboost as xgb\n",
    "\n",
    "xgb_reg = xgb.XGBRegressor(random_state = 42)\n",
    "xgb_reg.fit(X, y)"
   ]
  },
  {
   "cell_type": "code",
   "execution_count": 37,
   "metadata": {},
   "outputs": [
    {
     "data": {
      "text/plain": [
       "0.9788514532809856"
      ]
     },
     "execution_count": 37,
     "metadata": {},
     "output_type": "execute_result"
    }
   ],
   "source": [
    "xgb_reg.score(X, y)"
   ]
  },
  {
   "cell_type": "code",
   "execution_count": 38,
   "metadata": {},
   "outputs": [
    {
     "data": {
      "text/plain": [
       "array([0.69062345, 0.71348317, 0.62310681, 0.67467195, 0.69469462])"
      ]
     },
     "execution_count": 38,
     "metadata": {},
     "output_type": "execute_result"
    }
   ],
   "source": [
    "xgb_score = cross_val_score(xgb_reg, X, y)\n",
    "xgb_score"
   ]
  },
  {
   "cell_type": "code",
   "execution_count": 39,
   "metadata": {},
   "outputs": [
    {
     "data": {
      "text/plain": [
       "0.6793160018125244"
      ]
     },
     "execution_count": 39,
     "metadata": {},
     "output_type": "execute_result"
    }
   ],
   "source": [
    "xgb_score.mean()"
   ]
  },
  {
   "cell_type": "code",
   "execution_count": 40,
   "metadata": {},
   "outputs": [
    {
     "name": "stdout",
     "output_type": "stream",
     "text": [
      "* Scores RMSE: [3721.33528104 3631.76443646 4193.3351936  4254.5557737  3668.88791797]\n",
      "* Mean RMSE: 3893.98\n",
      "* Std RMSE: 271.61\n"
     ]
    }
   ],
   "source": [
    "eval_cross_rmse(xgb_reg, X, y)"
   ]
  },
  {
   "cell_type": "markdown",
   "metadata": {},
   "source": [
    "- Ta sẽ lựa chọn hai thuật toán cho kết quả RMSE khả quan nhất để tạo thành bộ hồi quy biểu quyết:"
   ]
  },
  {
   "cell_type": "code",
   "execution_count": 41,
   "metadata": {},
   "outputs": [
    {
     "name": "stdout",
     "output_type": "stream",
     "text": [
      "VotingRegressor training took 5.25s.\n"
     ]
    }
   ],
   "source": [
    "import time\n",
    "from sklearn.ensemble import VotingRegressor\n",
    "\n",
    "trees_reg = ExtraTreesRegressor(n_estimators = 350, random_state = 42)\n",
    "xgb_reg = xgb.XGBRegressor(random_state = 42)\n",
    "\n",
    "named_estimators = [\n",
    "                    ('trees_reg', trees_reg),\n",
    "                    ('xgb_reg', xgb_reg)]\n",
    "\n",
    "voting_reg = VotingRegressor(named_estimators)\n",
    "t1 = time.time()\n",
    "voting_reg.fit(X, y)\n",
    "t2 = time.time()\n",
    "\n",
    "print('VotingRegressor training took {:.2f}s.'.format(t2 - t1))"
   ]
  },
  {
   "cell_type": "code",
   "execution_count": 42,
   "metadata": {},
   "outputs": [
    {
     "data": {
      "text/plain": [
       "0.9947119262993062"
      ]
     },
     "execution_count": 42,
     "metadata": {},
     "output_type": "execute_result"
    }
   ],
   "source": [
    "voting_reg.score(X, y)"
   ]
  },
  {
   "cell_type": "code",
   "execution_count": 43,
   "metadata": {},
   "outputs": [
    {
     "data": {
      "text/plain": [
       "array([0.70438704, 0.7458464 , 0.66859621, 0.66765765, 0.71667873])"
      ]
     },
     "execution_count": 43,
     "metadata": {},
     "output_type": "execute_result"
    }
   ],
   "source": [
    "voting_score = cross_val_score(voting_reg, X, y)\n",
    "voting_score"
   ]
  },
  {
   "cell_type": "code",
   "execution_count": 44,
   "metadata": {},
   "outputs": [
    {
     "data": {
      "text/plain": [
       "0.7006332077410014"
      ]
     },
     "execution_count": 44,
     "metadata": {},
     "output_type": "execute_result"
    }
   ],
   "source": [
    "voting_score.mean()"
   ]
  },
  {
   "cell_type": "code",
   "execution_count": 45,
   "metadata": {},
   "outputs": [
    {
     "name": "stdout",
     "output_type": "stream",
     "text": [
      "* Scores RMSE: [3637.61589475 3420.50900982 3932.14180017 4300.17678053 3534.3275904 ]\n",
      "* Mean RMSE: 3764.95\n",
      "* Std RMSE: 317.01\n"
     ]
    }
   ],
   "source": [
    "eval_cross_rmse(voting_reg, X, y)"
   ]
  },
  {
   "cell_type": "markdown",
   "metadata": {},
   "source": [
    "- Ta sẽ đánh giá pipeline tiền xử lý và mô hình dự đoán trên tập kiểm tra:"
   ]
  },
  {
   "cell_type": "code",
   "execution_count": 46,
   "metadata": {},
   "outputs": [
    {
     "name": "stdout",
     "output_type": "stream",
     "text": [
      "<class 'pandas.core.frame.DataFrame'>\n",
      "RangeIndex: 1458 entries, 0 to 1457\n",
      "Data columns (total 19 columns):\n",
      " #   Column                        Non-Null Count  Dtype  \n",
      "---  ------                        --------------  -----  \n",
      " 0   ID                            1458 non-null   int64  \n",
      " 1   Noi_dung                      1458 non-null   object \n",
      " 2   Dia_chi                       1458 non-null   object \n",
      " 3   Gia (tỷ - dùng để đánh giá )  1458 non-null   float64\n",
      " 4   Nha_ve_sinh                   1458 non-null   object \n",
      " 5   So_phong                      1458 non-null   object \n",
      " 6   Huong                         1458 non-null   object \n",
      " 7   Chieu_dai                     1458 non-null   float64\n",
      " 8   Rong                          1458 non-null   float64\n",
      " 9   Giay_to                       1458 non-null   object \n",
      " 10  Cau_truc                      1458 non-null   object \n",
      " 11  Dien_tich                     1458 non-null   object \n",
      " 12  Dien_tich_su_dung             1458 non-null   float64\n",
      " 13  Hem_rong                      1458 non-null   float64\n",
      " 14  Duong_mat_tien                1458 non-null   float64\n",
      " 15  Tien_ich                      1173 non-null   object \n",
      " 16  Duong                         1458 non-null   object \n",
      " 17  Phuong                        1458 non-null   object \n",
      " 18  Quan                          1458 non-null   object \n",
      "dtypes: float64(6), int64(1), object(12)\n",
      "memory usage: 216.5+ KB\n"
     ]
    }
   ],
   "source": [
    "df_test = pd.read_excel('House_test.xlsx')\n",
    "df_test.info()"
   ]
  },
  {
   "cell_type": "code",
   "execution_count": 47,
   "metadata": {},
   "outputs": [],
   "source": [
    "test_processing  = Pipeline([('1', FillRelateValue('Dien_tich', 'Chieu_dai', 'Rong')),\n",
    "                             ('2', ConvertDtype(['Dien_tich'])),\n",
    "                             ('3', DataFrameDroping(['ID', 'Noi_dung', 'Dia_chi', 'Nha_ve_sinh', \n",
    "                                                     'So_phong', 'Huong', 'Duong', 'Giay_to', 'Tien_ich', \n",
    "                                                     'Phuong'])),\n",
    "                             ('4', ConstructTransform('Cau_truc')),\n",
    "                             ('5', EncoderCatColumns())])"
   ]
  },
  {
   "cell_type": "code",
   "execution_count": 48,
   "metadata": {},
   "outputs": [],
   "source": [
    "df_test = test_processing.fit_transform(df_test)"
   ]
  },
  {
   "cell_type": "code",
   "execution_count": 49,
   "metadata": {},
   "outputs": [
    {
     "data": {
      "text/plain": [
       "(1458, 40)"
      ]
     },
     "execution_count": 49,
     "metadata": {},
     "output_type": "execute_result"
    }
   ],
   "source": [
    "df_test.shape"
   ]
  },
  {
   "cell_type": "code",
   "execution_count": 50,
   "metadata": {},
   "outputs": [],
   "source": [
    "X_test = df_test.iloc[:, 1:]\n",
    "y_test = df_test.iloc[:, 0] * 1000"
   ]
  },
  {
   "cell_type": "code",
   "execution_count": 51,
   "metadata": {},
   "outputs": [
    {
     "data": {
      "text/html": [
       "<div>\n",
       "<style scoped>\n",
       "    .dataframe tbody tr th:only-of-type {\n",
       "        vertical-align: middle;\n",
       "    }\n",
       "\n",
       "    .dataframe tbody tr th {\n",
       "        vertical-align: top;\n",
       "    }\n",
       "\n",
       "    .dataframe thead th {\n",
       "        text-align: right;\n",
       "    }\n",
       "</style>\n",
       "<table border=\"1\" class=\"dataframe\">\n",
       "  <thead>\n",
       "    <tr style=\"text-align: right;\">\n",
       "      <th></th>\n",
       "      <th>Actual_values</th>\n",
       "      <th>Prediction_values</th>\n",
       "    </tr>\n",
       "  </thead>\n",
       "  <tbody>\n",
       "    <tr>\n",
       "      <th>0</th>\n",
       "      <td>3800.0</td>\n",
       "      <td>4357.487500</td>\n",
       "    </tr>\n",
       "    <tr>\n",
       "      <th>1</th>\n",
       "      <td>11000.0</td>\n",
       "      <td>11425.155818</td>\n",
       "    </tr>\n",
       "    <tr>\n",
       "      <th>2</th>\n",
       "      <td>78000.0</td>\n",
       "      <td>6938.706215</td>\n",
       "    </tr>\n",
       "    <tr>\n",
       "      <th>3</th>\n",
       "      <td>5050.0</td>\n",
       "      <td>6261.284933</td>\n",
       "    </tr>\n",
       "    <tr>\n",
       "      <th>4</th>\n",
       "      <td>3900.0</td>\n",
       "      <td>4097.274501</td>\n",
       "    </tr>\n",
       "    <tr>\n",
       "      <th>...</th>\n",
       "      <td>...</td>\n",
       "      <td>...</td>\n",
       "    </tr>\n",
       "    <tr>\n",
       "      <th>1453</th>\n",
       "      <td>7900.0</td>\n",
       "      <td>6459.594510</td>\n",
       "    </tr>\n",
       "    <tr>\n",
       "      <th>1454</th>\n",
       "      <td>6000.0</td>\n",
       "      <td>6795.910317</td>\n",
       "    </tr>\n",
       "    <tr>\n",
       "      <th>1455</th>\n",
       "      <td>5100.0</td>\n",
       "      <td>5588.940053</td>\n",
       "    </tr>\n",
       "    <tr>\n",
       "      <th>1456</th>\n",
       "      <td>47000.0</td>\n",
       "      <td>25435.408906</td>\n",
       "    </tr>\n",
       "    <tr>\n",
       "      <th>1457</th>\n",
       "      <td>5700.0</td>\n",
       "      <td>4435.179998</td>\n",
       "    </tr>\n",
       "  </tbody>\n",
       "</table>\n",
       "<p>1458 rows × 2 columns</p>\n",
       "</div>"
      ],
      "text/plain": [
       "      Actual_values  Prediction_values\n",
       "0            3800.0        4357.487500\n",
       "1           11000.0       11425.155818\n",
       "2           78000.0        6938.706215\n",
       "3            5050.0        6261.284933\n",
       "4            3900.0        4097.274501\n",
       "...             ...                ...\n",
       "1453         7900.0        6459.594510\n",
       "1454         6000.0        6795.910317\n",
       "1455         5100.0        5588.940053\n",
       "1456        47000.0       25435.408906\n",
       "1457         5700.0        4435.179998\n",
       "\n",
       "[1458 rows x 2 columns]"
      ]
     },
     "execution_count": 51,
     "metadata": {},
     "output_type": "execute_result"
    }
   ],
   "source": [
    "df_predictions = pd.DataFrame({'Actual_values': y_test,\n",
    "                               'Prediction_values': voting_reg.predict(X_test)})\n",
    "df_predictions"
   ]
  },
  {
   "cell_type": "markdown",
   "metadata": {},
   "source": [
    "- Hàm đánh giá mô hình hồi quy trong thư viện Lib"
   ]
  },
  {
   "cell_type": "code",
   "execution_count": 52,
   "metadata": {},
   "outputs": [
    {
     "name": "stdout",
     "output_type": "stream",
     "text": [
      "----- REGRESSION MODEL PERFORMANCE IN TEST-----\n",
      "* R-squared model of Test: 0.5756\n",
      "* MSE of output and predicted: 35972868.33782604\n",
      "* RMSE of output and predicted: 5997.738601992091\n",
      "* MAE of output and predicted: 2334.554778772855\n"
     ]
    },
    {
     "data": {
      "image/png": "[encoded data removed]",
      "text/plain": [
       "<Figure size 1008x432 with 1 Axes>"
      ]
     },
     "metadata": {
      "needs_background": "light"
     },
     "output_type": "display_data"
    }
   ],
   "source": [
    "fc.eval_regression_testset(voting_reg, X_test, y_test)"
   ]
  },
  {
   "cell_type": "markdown",
   "metadata": {},
   "source": [
    "- Giá trị RMSE trên tập kiểm tra là ~ 5 tỷ 997 triệu."
   ]
  },
  {
   "cell_type": "code",
   "execution_count": 53,
   "metadata": {},
   "outputs": [],
   "source": [
    "fc.save_model(voting_reg, 'VuTranHoaiHan_Housing_predict.pkl')"
   ]
  },
  {
   "cell_type": "code",
   "execution_count": null,
   "metadata": {},
   "outputs": [],
   "source": []
  }
 ],
 "metadata": {
  "kernelspec": {
   "display_name": "Python 3",
   "language": "python",
   "name": "python3"
  },
  "language_info": {
   "codemirror_mode": {
    "name": "ipython",
    "version": 3
   },
   "file_extension": ".py",
   "mimetype": "text/x-python",
   "name": "python",
   "nbconvert_exporter": "python",
   "pygments_lexer": "ipython3",
   "version": "3.8.3"
  }
 },
 "nbformat": 4,
 "nbformat_minor": 4
}
